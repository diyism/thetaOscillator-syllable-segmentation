{
 "cells": [
  {
   "cell_type": "markdown",
   "metadata": {},
   "source": [
    "# Oscillator-based speech syllabification algorithm\n",
    "\n",
    "Python implementation of \n",
    "> Räsänen, Doyle & Frank (2018). Pre-linguistic segmentation of speech into syllable-like units. Cognition, Vol. 171, pp. 130–150.\n",
    "\n",
    "Based on the Matlab implementation available here: https://github.com/orasanen/thetaOscillator\n",
    "\n",
    "The peak detection algorithm is from: https://gist.github.com/endolith/250860#file-peakdetect-py\n",
    "\n",
    "The gammatone filterbank uses: http://detly.github.io/gammatone/filters.html \n",
    "\n",
    "\n",
    "**License:** The work is under a GNU General Public License v3.0 "
   ]
  },
  {
   "cell_type": "markdown",
   "metadata": {},
   "source": [
    "## Peak detection function\n",
    "Original code:  https://gist.github.com/endolith/250860#file-peakdetect-py"
   ]
  },
  {
   "cell_type": "code",
   "execution_count": 1,
   "metadata": {},
   "outputs": [],
   "source": [
    "import sys\n",
    "from numpy import NaN, Inf, arange, isscalar, asarray, array\n",
    "\n",
    "def peakdet(v, delta, x = None):\n",
    "    \"\"\"\n",
    "    Converted from MATLAB script at http://billauer.co.il/peakdet.html\n",
    "    \n",
    "    Returns two arrays\n",
    "    \n",
    "    function [maxtab, mintab]=peakdet(v, delta, x)\n",
    "    %PEAKDET Detect peaks in a vector\n",
    "    %        [MAXTAB, MINTAB] = PEAKDET(V, DELTA) finds the local\n",
    "    %        maxima and minima (\"peaks\") in the vector V.\n",
    "    %        MAXTAB and MINTAB consists of two columns. Column 1\n",
    "    %        contains indices in V, and column 2 the found values.\n",
    "    %      \n",
    "    %        With [MAXTAB, MINTAB] = PEAKDET(V, DELTA, X) the indices\n",
    "    %        in MAXTAB and MINTAB are replaced with the corresponding\n",
    "    %        X-values.\n",
    "    %\n",
    "    %        A point is considered a maximum peak if it has the maximal\n",
    "    %        value, and was preceded (to the left) by a value lower by\n",
    "    %        DELTA.\n",
    "    \n",
    "    % Eli Billauer, 3.4.05 (Explicitly not copyrighted).\n",
    "    % This function is released to the public domain; Any use is allowed.\n",
    "    \n",
    "    \"\"\"\n",
    "    maxtab = []\n",
    "    mintab = []\n",
    "       \n",
    "    if x is None:\n",
    "        x = arange(len(v))\n",
    "    v = asarray(v)\n",
    "    if len(v) != len(x):\n",
    "        sys.exit('Input vectors v and x must have same length')\n",
    "    \n",
    "    if not isscalar(delta):\n",
    "        sys.exit('Input argument delta must be a scalar')\n",
    "    \n",
    "    if delta <= 0:\n",
    "        sys.exit('Input argument delta must be positive')\n",
    "    \n",
    "    mn, mx = Inf, -Inf\n",
    "    mnpos, mxpos = NaN, NaN\n",
    "    \n",
    "    lookformax = True\n",
    "    for i in arange(len(v)):\n",
    "        this = v[i]\n",
    "        if this > mx:\n",
    "            mx = this\n",
    "            mxpos = x[i]\n",
    "        if this < mn:\n",
    "            mn = this\n",
    "            mnpos = x[i]\n",
    "        \n",
    "        if lookformax:\n",
    "            if this < mx-delta:\n",
    "                maxtab.append((mxpos, mx))\n",
    "                mn = this\n",
    "                mnpos = x[i]\n",
    "                lookformax = False\n",
    "        else:\n",
    "            if this > mn+delta:\n",
    "                mintab.append((mnpos, mn))\n",
    "                mx = this\n",
    "                mxpos = x[i]\n",
    "                lookformax = True\n",
    "\n",
    "    return array(maxtab), array(mintab)"
   ]
  },
  {
   "cell_type": "markdown",
   "metadata": {},
   "source": [
    "## ThetaOscillator function\n",
    "\n",
    "Original Matlab code here: https://github.com/orasanen/thetaOscillator"
   ]
  },
  {
   "cell_type": "code",
   "execution_count": 2,
   "metadata": {},
   "outputs": [],
   "source": [
    "def thetaOscillator(ENVELOPE, f=5, Q=0.5, thr=0.025, verbose=1):\n",
    "    \n",
    "    N = 10;# How many most energetic bands to use (default = 8)\n",
    "\n",
    "    if N > ENVELOPE.size:\n",
    "        print ('WARNING: Input dimensionality smaller than the N parameter. Using all frequency bands.');\n",
    "    # %% Find correct delay compensation (readily tabulated)\n",
    "\n",
    "    a = np.array([[72, 34, 22, 16, 12, 9, 8, 6, 5, 4, 3, 3, 2, 2, 1, 0, 0, 0, 0, 0],\n",
    "        [107, 52, 34, 25, 19, 16, 13, 11, 10, 9, 8, 7, 6, 5, 5, 4, 4, 4, 3, 3],\n",
    "        [129, 64, 42, 31, 24, 20, 17, 14, 13, 11, 10, 9, 8, 7, 7, 6, 6, 5, 5, 4],\n",
    "        [145, 72, 47, 35, 28, 23, 19, 17, 15, 13, 12, 10, 9, 9, 8, 7, 7, 6, 6, 5],\n",
    "        [157, 78, 51, 38, 30, 25, 21, 18, 16, 14, 13, 12, 11, 10, 9, 8, 8, 7, 7, 6],\n",
    "        [167, 83, 55, 41, 32, 27, 23, 19, 17, 15, 14, 12, 11, 10, 10, 9, 8, 8, 7, 7],\n",
    "        [175, 87, 57, 43, 34, 28, 24, 21, 18, 16, 15, 13, 12, 11, 10, 9, 9, 8, 8, 7],\n",
    "        [181, 90, 59, 44, 35, 29, 25, 21, 19, 17, 15, 14, 13, 12, 11, 10, 9, 9, 8, 8],\n",
    "        [187, 93, 61, 46, 36, 30, 25, 22, 19, 17, 16, 14, 13, 12, 11, 10, 10, 9, 8, 8],\n",
    "        [191, 95, 63, 47, 37, 31, 26, 23, 20, 18, 16, 15, 13, 12, 11, 11, 10, 9, 9, 8]]);\n",
    "\n",
    "    i1 = max(0,min(10,round(Q*10)));\n",
    "    i2 = max(0,min(20,round(f)));\n",
    "\n",
    "    delay_compensation = a[i1-1][i2-1];\n",
    "    \n",
    "    # Get oscillator mass\n",
    "    T = 1./f;   # Oscillator period\n",
    "    k = 1;      # Fix spring constant k = 1, define only mass\n",
    "    b = 2*np.pi/T; \n",
    "    m = k/b**2;  # Mass of the oscillator\n",
    "\n",
    "    \n",
    "    # % Get oscillator damping coefficient\n",
    "    c = np.sqrt(m*k)/Q;\n",
    "    \n",
    "    if(verbose):\n",
    "        print('Oscillator Q-value: %0.4f, center frequency: %0.1f Hz, bandwidth: %0.1f Hz.\\n'%(Q,1/T,1/T/Q));\n",
    "\n",
    "    # Do zero padding\n",
    "    e = np.transpose(ENVELOPE);\n",
    "    e = np.vstack((e,np.zeros((500, e.shape[1]))))\n",
    "    F = e.shape[1] # Number of frequency channels\n",
    "    \n",
    "    # Get oscillator amplitudes as a function of time\n",
    "    x = np.zeros((e.shape[0],F));\n",
    "    a = np.zeros((e.shape[0],F));\n",
    "    v = np.zeros((e.shape[0],F));\n",
    "                \n",
    "    for t in range(1,e.shape[0]):        \n",
    "        for cf in range(F):\n",
    "            f_up = e[t,cf]; # driving positive force \n",
    "            f_down = -k*x[t-1,cf]-c*v[t-1,cf];\n",
    "            f_tot = f_up+f_down; # Total force\n",
    "            # Get acceleration from force\n",
    "            a[t,cf] = f_tot/m;\n",
    "                \n",
    "            # Get velocity from acceleration\n",
    "            v[t,cf] = v[t-1,cf]+a[t,cf]*0.001; # assumes 1000 Hz sampling\n",
    "            # Get position from velocity\n",
    "            x[t,cf] = x[t-1,cf]+v[t,cf]*0.001;                \n",
    "\n",
    "    \n",
    "    # Perform group delay correction by removing samples from the\n",
    "    # beginning and adding zeroes to the end\n",
    "    for f in range(F):\n",
    "        if(delay_compensation):\n",
    "            x[:,f] = np.append(x[delay_compensation:,f],np.zeros((delay_compensation,1)));\n",
    "    \n",
    "    x = x[:-500]; # Remove zero-padding\n",
    "    \n",
    "    # Combine N most energetic bands to get sonority envelope\n",
    "    tmp = x;\n",
    "    tmp = tmp-np.min(tmp)+0.00001;\n",
    "    x = np.zeros((tmp.shape[0],1));\n",
    "\n",
    "    for zz in range(tmp.shape[0]):\n",
    "        sort_tmp = np.sort(tmp[zz,:],axis=0)[::-1];  \n",
    "        x[zz] = sum((np.log10(sort_tmp[:N])));                \n",
    "\n",
    "    # Scale sonority envelope between 0 and 1\n",
    "    x = x-np.min(x);\n",
    "    x = x/np.max(x);\n",
    "    return x"
   ]
  },
  {
   "cell_type": "markdown",
   "metadata": {},
   "source": [
    "## Run the syllable detection over an audio signal"
   ]
  },
  {
   "cell_type": "code",
   "execution_count": 3,
   "metadata": {},
   "outputs": [],
   "source": [
    "# Gammatone Python module\n",
    "#!pip3 install git+https://github.com/detly/gammatone.git"
   ]
  },
  {
   "cell_type": "code",
   "execution_count": 4,
   "metadata": {},
   "outputs": [
    {
     "name": "stdout",
     "output_type": "stream",
     "text": [
      "Oscillator Q-value: 0.5000, center frequency: 5.0 Hz, bandwidth: 10.0 Hz.\n",
      "\n"
     ]
    }
   ],
   "source": [
    "import librosa\n",
    "import numpy as np\n",
    "import gammatone.filters\n",
    "from scipy.signal import hilbert\n",
    "\n",
    "# Generate Gammatone filterbank center frequencies (log-spacing)\n",
    "minfreq = 50\n",
    "maxfreq = 7500\n",
    "bands = 20\n",
    "\n",
    "cfs = np.zeros((bands,1));\n",
    "const = (maxfreq/minfreq)**(1/(bands-1));\n",
    "#const = 1.3018\n",
    "\n",
    "cfs[0] = 50;\n",
    "for k in range(bands-1):\n",
    "    cfs[k+1] = cfs[k]*const;\n",
    "    \n",
    "\n",
    "# Read the audio data\n",
    "wav_data, fs = librosa.load('deasemenea.wav')\n",
    "wav_data = librosa.resample(wav_data,fs,16000);\n",
    "fs = 16000;\n",
    "# Compute gammatone envelopes and downsample to 1000 Hz\n",
    "coefs = gammatone.filters.make_erb_filters(fs, cfs, width=1.0)\n",
    "filtered_signal = gammatone.filters.erb_filterbank(wav_data, coefs)\n",
    "hilbert_envelope = np.abs(hilbert(filtered_signal))\n",
    "env = librosa.resample(hilbert_envelope,fs,1000);\n",
    "\n",
    "# Run oscillator-based segmentation\n",
    "Q_value = 0.5;  # Q-value of the oscillator, default = 0.5 = critical damping\n",
    "center_frequency = 5; # in Hz\n",
    "threshold = 0.01;\n",
    "\n",
    "# Get the sonority function\n",
    "outh = thetaOscillator(env,center_frequency,Q_value,threshold)"
   ]
  },
  {
   "cell_type": "code",
   "execution_count": 5,
   "metadata": {},
   "outputs": [
    {
     "data": {
      "text/plain": [
       "Text(0.5, 1.0, 'First 10 Gammatone Filter Envelopes')"
      ]
     },
     "execution_count": 5,
     "metadata": {},
     "output_type": "execute_result"
    },
    {
     "data": {
      "image/png": "[encoded data removed]",
      "text/plain": [
       "<Figure size 432x288 with 1 Axes>"
      ]
     },
     "metadata": {
      "needs_background": "light"
     },
     "output_type": "display_data"
    }
   ],
   "source": [
    "import matplotlib.pylab as pl\n",
    "%matplotlib inline\n",
    "pl.plot(env[1:10].transpose());\n",
    "pl.title('First 10 Gammatone Filter Envelopes')"
   ]
  },
  {
   "cell_type": "code",
   "execution_count": 6,
   "metadata": {},
   "outputs": [],
   "source": [
    "# Detect the peaks and valleys of the sonority function\n",
    "peaks,valleys = peakdet(outh,threshold); \n",
    "if len(valleys) and len(peaks):\n",
    "    valley_indices = valleys[:,0]\n",
    "    peak_indices = peaks[:,0]\n",
    "\n",
    "    # Add signal onset if not detected by valley picking \n",
    "    if valley_indices[0] > 50:\n",
    "        valley_indices = np.insert(valley_indices,0,0)\n",
    "    if valley_indices[-1] < env.shape[1] -50:\n",
    "        valley_indices = np.append(valley_indices,env.shape[1])\n",
    "else:\n",
    "    valley_indices = [0, len(env)]"
   ]
  },
  {
   "cell_type": "code",
   "execution_count": null,
   "metadata": {},
   "outputs": [],
   "source": [
    "# Plot the results\n",
    "pl.figure(figsize=(18,8))\n",
    "time_axis = [i*1./fs for i in range(len(wav_data))]\n",
    "pl.plot(time_axis, wav_data)\n",
    "pl.xlim((-0.01, (len(wav_data))*1./fs+0.01))\n",
    "time_axis = [i*1./1000 for i in range(len(outh))]\n",
    "pl.plot(time_axis, outh)\n",
    "\n",
    "for vi in valley_indices:\n",
    "    pl.axvline(vi*1./1000, ymin=0, ymax=1, color='r', linestyle='dashed')\n",
    "    \n",
    "## Plot syll nuclei\n",
    "# for pi in peak_indices:\n",
    "#     pl.axvline(pi*1./1000, ymin=0, ymax=1, color = 'g', linestyle='dashed')\n",
    "\n",
    "## Plot true boundaries\n",
    "# zz = [0, 0.264, 0.446, 0.573, 0.7854];\n",
    "# for z in zz:\n",
    "#    pl.axvline(z, ymin=0, ymax=1, color = 'k', linestyle='dashed')\n",
    "    \n",
    "    \n",
    "pl.legend(['signal', 'sonority', 'estimated syll boundaries']);\n",
    "pl.title('Theta oscillator based syllable boundary detection');\n",
    "pl.xlabel ('Time [s]')\n",
    "pl.savefig('output.png')"
   ]
  },
  {
   "cell_type": "code",
   "execution_count": null,
   "metadata": {},
   "outputs": [],
   "source": [
    "import IPython\n",
    "IPython.display.Audio(wav_data, rate=fs)"
   ]
  }
 ],
 "metadata": {
  "kernelspec": {
   "display_name": "Python 3",
   "language": "python",
   "name": "python3"
  },
  "language_info": {
   "codemirror_mode": {
    "name": "ipython",
    "version": 3
   },
   "file_extension": ".py",
   "mimetype": "text/x-python",
   "name": "python",
   "nbconvert_exporter": "python",
   "pygments_lexer": "ipython3",
   "version": "3.6.8"
  }
 },
 "nbformat": 4,
 "nbformat_minor": 2
}
